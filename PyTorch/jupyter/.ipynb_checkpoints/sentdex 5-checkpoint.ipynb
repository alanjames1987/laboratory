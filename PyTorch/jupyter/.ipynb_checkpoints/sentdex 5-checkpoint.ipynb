{
 "cells": [
  {
   "cell_type": "code",
   "execution_count": 1,
   "metadata": {
    "scrolled": true
   },
   "outputs": [
    {
     "name": "stderr",
     "output_type": "stream",
     "text": [
      "100%|██████████| 12501/12501 [00:20<00:00, 623.44it/s]\n",
      "100%|██████████| 12501/12501 [00:20<00:00, 595.51it/s]\n"
     ]
    },
    {
     "name": "stdout",
     "output_type": "stream",
     "text": [
      "Cats: 12476\n",
      "Dogs: 12470\n"
     ]
    }
   ],
   "source": [
    "import os\n",
    "import cv2\n",
    "import numpy as np\n",
    "from tqdm import tqdm\n",
    "\n",
    "REBUILD_DATA = True\n",
    "\n",
    "class DogsVSCats():\n",
    "    \n",
    "    IMG_SIZE = 50\n",
    "    \n",
    "    CATS = \"../data/PetImages/Cat\"\n",
    "    DOGS = \"../data/PetImages/Dog\"\n",
    "    \n",
    "    LABELS = {CATS: 0, DOGS: 1}\n",
    "    \n",
    "    training_data = []\n",
    "    \n",
    "    catcount = 0\n",
    "    dogcount = 0 \n",
    "    \n",
    "    def make_training_data(self):\n",
    "        \n",
    "        for label in self.LABELS:\n",
    "            \n",
    "            for f in tqdm(os.listdir(label)):\n",
    "                \n",
    "                try:\n",
    "                \n",
    "                    path = os.path.join(label, f)\n",
    "\n",
    "                    img = cv2.imread(path, cv2.IMREAD_GRAYSCALE)\n",
    "                    img = cv2.resize(img, (self.IMG_SIZE, self.IMG_SIZE))\n",
    "                    \n",
    "                    self.training_data.append(\n",
    "                        [\n",
    "                            np.array(img), \n",
    "                            np.eye(2)[self.LABELS[label]]\n",
    "                        ]\n",
    "                    )\n",
    "                    \n",
    "                    if label == self.CATS:\n",
    "                        self.catcount += 1\n",
    "                    elif label == self.DOGS:\n",
    "                        self.dogcount += 1\n",
    "                    \n",
    "                except Exception as e:\n",
    "                    pass\n",
    "#                     print(str(e))\n",
    "                    \n",
    "        np.random.shuffle(self.training_data)\n",
    "        \n",
    "        np.save(\"../data/training_data.npy\", self.training_data)\n",
    "        \n",
    "        print(\"Cats:\", self.catcount)\n",
    "        print(\"Dogs:\", self.dogcount)\n",
    "        \n",
    "if REBUILD_DATA:\n",
    "    dogsvcats = DogsVSCats()\n",
    "    dogsvcats.make_training_data()"
   ]
  },
  {
   "cell_type": "code",
   "execution_count": null,
   "metadata": {},
   "outputs": [],
   "source": []
  },
  {
   "cell_type": "code",
   "execution_count": 12,
   "metadata": {},
   "outputs": [],
   "source": [
    "# shortcut for making one hot vectors\n",
    "# np.eye(2)[1]"
   ]
  }
 ],
 "metadata": {
  "kernelspec": {
   "display_name": "Python 3",
   "language": "python",
   "name": "python3"
  },
  "language_info": {
   "codemirror_mode": {
    "name": "ipython",
    "version": 3
   },
   "file_extension": ".py",
   "mimetype": "text/x-python",
   "name": "python",
   "nbconvert_exporter": "python",
   "pygments_lexer": "ipython3",
   "version": "3.7.4"
  }
 },
 "nbformat": 4,
 "nbformat_minor": 2
}
